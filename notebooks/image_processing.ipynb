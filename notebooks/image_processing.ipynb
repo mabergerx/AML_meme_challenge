{
 "cells": [
  {
   "cell_type": "code",
   "execution_count": 70,
   "metadata": {},
   "outputs": [],
   "source": [
    "import pandas as pd\n",
    "import plotly.express as px\n",
    "import re\n",
    "import spacy\n",
    "import numpy as np\n",
    "import matplotlib.pyplot as plt\n",
    "\n",
    "from os import listdir\n",
    "from datetime import date\n",
    "\n",
    "from sklearn.svm import LinearSVC, SVC\n",
    "from sklearn.ensemble import RandomForestClassifier\n",
    "from sklearn.linear_model import SGDClassifier, LogisticRegression\n",
    "from sklearn.naive_bayes import MultinomialNB\n",
    "from sklearn.model_selection import train_test_split\n",
    "from sklearn.utils.class_weight import compute_class_weight\n",
    "from sklearn.metrics import classification_report, confusion_matrix, accuracy_score\n",
    "from sklearn.preprocessing import LabelEncoder\n",
    "from sklearn.feature_extraction.text import TfidfVectorizer\n",
    "from sklearn.feature_extraction.text import CountVectorizer\n",
    "from sklearn.kernel_approximation import Nystroem\n",
    "\n",
    "from sklearn.metrics import plot_confusion_matrix\n",
    "\n",
    "%matplotlib inline"
   ]
  },
  {
   "cell_type": "code",
   "execution_count": 5,
   "metadata": {},
   "outputs": [],
   "source": [
    "# Utility function to create a submission csv.\n",
    "def make_submission_file(df):\n",
    "    current_submission_index = max([int(s.split(\"_\")[2]) for s in listdir(\"submissions\") if \"csv\" in s])\n",
    "    df.to_csv(f\"submissions/submission_pepe_{current_submission_index+1}_{date.today()}.csv\", index=False)"
   ]
  },
  {
   "cell_type": "code",
   "execution_count": 2,
   "metadata": {},
   "outputs": [],
   "source": [
    "nlp = spacy.load('en_core_web_sm')"
   ]
  },
  {
   "cell_type": "code",
   "execution_count": 3,
   "metadata": {},
   "outputs": [],
   "source": [
    "def load_train_data():\n",
    "    raw_train_data = pd.read_csv(\"train_data.csv\")\n",
    "    full_df = pd.merge(raw_train_data, pd.read_csv(\"train_label.csv\"), on=\"id\")\n",
    "    full_df.fillna(\"No text\", inplace=True)\n",
    "    return full_df"
   ]
  },
  {
   "cell_type": "code",
   "execution_count": 4,
   "metadata": {},
   "outputs": [],
   "source": [
    "full_df = load_train_data()"
   ]
  },
  {
   "cell_type": "markdown",
   "metadata": {},
   "source": [
    "## Text classification"
   ]
  },
  {
   "cell_type": "markdown",
   "metadata": {},
   "source": [
    "#### Let's start with cleaning the text."
   ]
  },
  {
   "cell_type": "code",
   "execution_count": 7,
   "metadata": {},
   "outputs": [],
   "source": [
    "def clean_text(text):\n",
    "\n",
    "    found_url = re.findall(r\"(?i)\\b((?:https?:(?:/{1,3}|[a-z0-9%])|[a-z0-9.\\-]+[.](?:com|net|org)))\", text)\n",
    "    if found_url:\n",
    "        text = text.replace(found_url[0], \"\")\n",
    "        text = text.replace(found_url[0].split(\".\")[0], \"\")\n",
    "    for w in text.split():\n",
    "        if \".com\" in w or \"@\" in w:\n",
    "            text = text.replace(w, \"\")\n",
    "            \n",
    "    text = re.sub(r'\\s+', ' ', text, flags=re.I)\n",
    "    text = re.sub(r'^b\\s+', '', text)\n",
    "    # We remove all the single characters\n",
    "    text = re.sub(r'\\s+[a-zA-Z]\\s+', ' ', text)\n",
    "    # For now we remove all punctuation, but maybe for memes stuff like ! and ? important, we can test later.\n",
    "    text = re.sub(r'[^\\w\\s]','', text)\n",
    "\n",
    "    \n",
    "    return text\n"
   ]
  },
  {
   "cell_type": "code",
   "execution_count": 8,
   "metadata": {},
   "outputs": [],
   "source": [
    "def lemmatize_text(text):\n",
    "    # Make a spacy pipe ffrom this later.\n",
    "    doc = nlp(text)\n",
    "    lemmas = [token.lemma_ if token.lemma_ not in [\"-PRON-\"] else token.text for token in doc]\n",
    "    return \" \".join(lemmas)\n",
    "        "
   ]
  },
  {
   "cell_type": "code",
   "execution_count": 9,
   "metadata": {},
   "outputs": [],
   "source": [
    "def add_relevant_columns(df, lemmatize=True):\n",
    "    \n",
    "    def add_lowercased_texts(df):\n",
    "        df[\"lowercased_text\"] = [t.lower() for t in df.Corrected_text]\n",
    "        return df\n",
    "    \n",
    "    def clean_texts(df):\n",
    "        df[\"cleaned_text\"] = df.lowercased_text.apply(lambda x: clean_text(x))\n",
    "        return df\n",
    "    \n",
    "    def lemmatize_texts(df):\n",
    "        df[\"lemmatized_text\"] = df.cleaned_text.apply(lambda x: lemmatize_text(x))\n",
    "        return df\n",
    "    \n",
    "    if lemmatize:\n",
    "        return lemmatize_texts(clean_texts(add_lowercased_texts(df)))\n",
    "    else:\n",
    "        return clean_texts(add_lowercased_texts(df))\n",
    "    "
   ]
  },
  {
   "cell_type": "code",
   "execution_count": 10,
   "metadata": {},
   "outputs": [],
   "source": [
    "prepared_train = add_relevant_columns(full_df, lemmatize=True)"
   ]
  },
  {
   "cell_type": "code",
   "execution_count": 11,
   "metadata": {},
   "outputs": [
    {
     "data": {
      "text/html": [
       "<div>\n",
       "<style scoped>\n",
       "    .dataframe tbody tr th:only-of-type {\n",
       "        vertical-align: middle;\n",
       "    }\n",
       "\n",
       "    .dataframe tbody tr th {\n",
       "        vertical-align: top;\n",
       "    }\n",
       "\n",
       "    .dataframe thead th {\n",
       "        text-align: right;\n",
       "    }\n",
       "</style>\n",
       "<table border=\"1\" class=\"dataframe\">\n",
       "  <thead>\n",
       "    <tr style=\"text-align: right;\">\n",
       "      <th></th>\n",
       "      <th>id</th>\n",
       "      <th>Corrected_text</th>\n",
       "      <th>Humour</th>\n",
       "      <th>lowercased_text</th>\n",
       "      <th>cleaned_text</th>\n",
       "      <th>lemmatized_text</th>\n",
       "    </tr>\n",
       "  </thead>\n",
       "  <tbody>\n",
       "    <tr>\n",
       "      <td>4214</td>\n",
       "      <td>train_4215.jpg</td>\n",
       "      <td>waiting on the coffee to brew like... @coffee_...</td>\n",
       "      <td>funny</td>\n",
       "      <td>waiting on the coffee to brew like... @coffee_...</td>\n",
       "      <td>waiting on the coffee to brew like gene wilder...</td>\n",
       "      <td>wait on the coffee to brew like gene wilder be...</td>\n",
       "    </tr>\n",
       "    <tr>\n",
       "      <td>2746</td>\n",
       "      <td>train_2747.jpg</td>\n",
       "      <td>THE CATHEDRAL OP MISOGINS A meme-laden joke ad...</td>\n",
       "      <td>not_funny</td>\n",
       "      <td>the cathedral op misogins a meme-laden joke ad...</td>\n",
       "      <td>the cathedral op misogins memeladen joke adven...</td>\n",
       "      <td>the cathedral op misogin memeladen joke advent...</td>\n",
       "    </tr>\n",
       "    <tr>\n",
       "      <td>111</td>\n",
       "      <td>train_112.jpg</td>\n",
       "      <td>Me: I need to stop being lonely and talk to pe...</td>\n",
       "      <td>funny</td>\n",
       "      <td>me: i need to stop being lonely and talk to pe...</td>\n",
       "      <td>me need to stop being lonely and talk to peopl...</td>\n",
       "      <td>me need to stop be lonely and talk to people s...</td>\n",
       "    </tr>\n",
       "    <tr>\n",
       "      <td>3713</td>\n",
       "      <td>train_3714.jpg</td>\n",
       "      <td>The acadamy has given Leo an oscar... Leo is f...</td>\n",
       "      <td>funny</td>\n",
       "      <td>the acadamy has given leo an oscar... leo is f...</td>\n",
       "      <td>the acadamy has given leo an oscar leo is free</td>\n",
       "      <td>the acadamy have give leo an oscar leo be free</td>\n",
       "    </tr>\n",
       "    <tr>\n",
       "      <td>432</td>\n",
       "      <td>train_433.jpg</td>\n",
       "      <td>WHEN SOMEONE CALLS MY BEST FRIEND THEIR BEST F...</td>\n",
       "      <td>very_funny</td>\n",
       "      <td>when someone calls my best friend their best f...</td>\n",
       "      <td>when someone calls my best friend their best f...</td>\n",
       "      <td>when someone call my good friend their good fr...</td>\n",
       "    </tr>\n",
       "  </tbody>\n",
       "</table>\n",
       "</div>"
      ],
      "text/plain": [
       "                  id                                     Corrected_text  \\\n",
       "4214  train_4215.jpg  waiting on the coffee to brew like... @coffee_...   \n",
       "2746  train_2747.jpg  THE CATHEDRAL OP MISOGINS A meme-laden joke ad...   \n",
       "111    train_112.jpg  Me: I need to stop being lonely and talk to pe...   \n",
       "3713  train_3714.jpg  The acadamy has given Leo an oscar... Leo is f...   \n",
       "432    train_433.jpg  WHEN SOMEONE CALLS MY BEST FRIEND THEIR BEST F...   \n",
       "\n",
       "          Humour                                    lowercased_text  \\\n",
       "4214       funny  waiting on the coffee to brew like... @coffee_...   \n",
       "2746   not_funny  the cathedral op misogins a meme-laden joke ad...   \n",
       "111        funny  me: i need to stop being lonely and talk to pe...   \n",
       "3713       funny  the acadamy has given leo an oscar... leo is f...   \n",
       "432   very_funny  when someone calls my best friend their best f...   \n",
       "\n",
       "                                           cleaned_text  \\\n",
       "4214  waiting on the coffee to brew like gene wilder...   \n",
       "2746  the cathedral op misogins memeladen joke adven...   \n",
       "111   me need to stop being lonely and talk to peopl...   \n",
       "3713    the acadamy has given leo an oscar leo is free    \n",
       "432   when someone calls my best friend their best f...   \n",
       "\n",
       "                                        lemmatized_text  \n",
       "4214  wait on the coffee to brew like gene wilder be...  \n",
       "2746  the cathedral op misogin memeladen joke advent...  \n",
       "111   me need to stop be lonely and talk to people s...  \n",
       "3713     the acadamy have give leo an oscar leo be free  \n",
       "432   when someone call my good friend their good fr...  "
      ]
     },
     "execution_count": 11,
     "metadata": {},
     "output_type": "execute_result"
    }
   ],
   "source": [
    "prepared_train.sample(5)"
   ]
  },
  {
   "cell_type": "markdown",
   "metadata": {},
   "source": [
    "### Featurizing text"
   ]
  },
  {
   "cell_type": "code",
   "execution_count": 12,
   "metadata": {},
   "outputs": [],
   "source": [
    "le = LabelEncoder()\n",
    "\n",
    "def add_label_encoding(df, encoder=le):\n",
    "    categories = le.fit_transform(df.Humour)\n",
    "    df[\"category\"] = categories\n",
    "    return df\n",
    "\n",
    "def add_string_labels(df, encoder=le):\n",
    "    labels = le.inverse_transform(df.category)\n",
    "    df[\"Humour\"] = labels\n",
    "    return df"
   ]
  },
  {
   "cell_type": "code",
   "execution_count": 13,
   "metadata": {},
   "outputs": [],
   "source": [
    "tfidf = TfidfVectorizer(min_df=5, ngram_range=(1, 2), max_features=3000, max_df=0.6, stop_words=None, \n",
    "                            strip_accents=None, analyzer=\"word\")\n",
    "def create_tfidf_features(df, tfidf_instance, text_column=\"lemmatized_text\"):\n",
    "    features = tfidf_instance.fit_transform(df[text_column]).toarray()\n",
    "    return features"
   ]
  },
  {
   "cell_type": "code",
   "execution_count": 14,
   "metadata": {},
   "outputs": [],
   "source": [
    "train_features = create_tfidf_features(prepared_train, tfidf)"
   ]
  },
  {
   "cell_type": "code",
   "execution_count": 15,
   "metadata": {},
   "outputs": [],
   "source": [
    "prepared_train = add_label_encoding(prepared_train)"
   ]
  },
  {
   "cell_type": "markdown",
   "metadata": {},
   "source": [
    "## Training classifiers"
   ]
  },
  {
   "cell_type": "code",
   "execution_count": 16,
   "metadata": {},
   "outputs": [],
   "source": [
    "# Create the train data split to make our own test set.\n",
    "X_train_own, X_test_own, y_train_own, y_test_own = train_test_split(prepared_train, prepared_train[\"category\"], test_size=0.2, random_state=22)"
   ]
  },
  {
   "cell_type": "code",
   "execution_count": 113,
   "metadata": {},
   "outputs": [],
   "source": [
    "# This is training on the whole set because we tesrt on holdout or using pipeline.\n",
    "X_train = train_features\n",
    "y_train = prepared_train[\"category\"]\n",
    "def fit_classifier(classifier_instance):\n",
    "    classifier_instance.fit(X_train, y_train)\n",
    "    return \"Classifier is fitted!\""
   ]
  },
  {
   "cell_type": "code",
   "execution_count": 114,
   "metadata": {},
   "outputs": [],
   "source": [
    "classifier_SVC = LinearSVC(class_weight=\"balanced\")\n",
    "classifier_RF = RandomForestClassifier(class_weight=\"balanced\", n_estimators=200, n_jobs=-1)"
   ]
  },
  {
   "cell_type": "code",
   "execution_count": 115,
   "metadata": {},
   "outputs": [
    {
     "data": {
      "text/plain": [
       "'Classifier is fitted!'"
      ]
     },
     "execution_count": 115,
     "metadata": {},
     "output_type": "execute_result"
    }
   ],
   "source": [
    "fit_classifier(classifier_RF)"
   ]
  },
  {
   "cell_type": "code",
   "execution_count": 119,
   "metadata": {},
   "outputs": [],
   "source": [
    "# y_pred = classifier_RF.predict(X_test_own)"
   ]
  },
  {
   "cell_type": "code",
   "execution_count": null,
   "metadata": {},
   "outputs": [],
   "source": [
    "print(confusion_matrix(y_test_own,y_pred))\n",
    "print(classification_report(y_test_own,y_pred))\n",
    "print(accuracy_score(y_test_own, y_pred))"
   ]
  },
  {
   "cell_type": "markdown",
   "metadata": {},
   "source": [
    "## Pipeline approach (with GridSearch)"
   ]
  },
  {
   "cell_type": "code",
   "execution_count": 56,
   "metadata": {},
   "outputs": [],
   "source": [
    "from sklearn.pipeline import Pipeline\n",
    "\n",
    "# With this pipeline, we can easily swap between different models and architectures and plug in different\n",
    "# text pre-processing steps.\n",
    "\n",
    "text_clf = Pipeline([\n",
    "#     ('tfidf', TfidfVectorizer(min_df=4, ngram_range=(1, 3), max_features=5000, max_df=0.4, stop_words='english', \n",
    "#                             strip_accents=\"ascii\", analyzer=\"char_wb\", use_idf=True)),\n",
    "#     ('countvectorizer', CountVectorizer()),\n",
    "    ('tfidf', TfidfVectorizer()),\n",
    "#     (\"kernel_approx\", Nystroem(gamma=.2,\n",
    "#                                 random_state=1,\n",
    "#                                 n_components=500)),\n",
    "#     ('clf', RandomForestClassifier(class_weight=\"balanced\", min_samples_split=3, n_estimators=500)),\n",
    "    ('clf', LinearSVC(C=0.01, class_weight=\"balanced\", tol=0.0001))\n",
    "#     ('clf', SVC())\n",
    "#     ('clf', LogisticRegression())\n",
    "])"
   ]
  },
  {
   "cell_type": "code",
   "execution_count": 57,
   "metadata": {},
   "outputs": [
    {
     "data": {
      "text/plain": [
       "Pipeline(memory=None,\n",
       "         steps=[('tfidf',\n",
       "                 TfidfVectorizer(analyzer='word', binary=False,\n",
       "                                 decode_error='strict',\n",
       "                                 dtype=<class 'numpy.float64'>,\n",
       "                                 encoding='utf-8', input='content',\n",
       "                                 lowercase=True, max_df=1.0, max_features=None,\n",
       "                                 min_df=1, ngram_range=(1, 1), norm='l2',\n",
       "                                 preprocessor=None, smooth_idf=True,\n",
       "                                 stop_words=None, strip_accents=None,\n",
       "                                 sublinear_tf=False,\n",
       "                                 token_pattern='(?u)\\\\b\\\\w\\\\w+\\\\b',\n",
       "                                 tokenizer=None, use_idf=True,\n",
       "                                 vocabulary=None)),\n",
       "                ('clf',\n",
       "                 LinearSVC(C=0.01, class_weight='balanced', dual=True,\n",
       "                           fit_intercept=True, intercept_scaling=1,\n",
       "                           loss='squared_hinge', max_iter=1000,\n",
       "                           multi_class='ovr', penalty='l2', random_state=None,\n",
       "                           tol=0.0001, verbose=0))],\n",
       "         verbose=False)"
      ]
     },
     "execution_count": 57,
     "metadata": {},
     "output_type": "execute_result"
    }
   ],
   "source": [
    "text_clf.fit(X_train_own.lemmatized_text, y_train_own)"
   ]
  },
  {
   "cell_type": "code",
   "execution_count": 122,
   "metadata": {},
   "outputs": [],
   "source": [
    "y_pred_pipeline = text_clf.predict(X_test_own.lemmatized_text)"
   ]
  },
  {
   "cell_type": "code",
   "execution_count": 123,
   "metadata": {},
   "outputs": [
    {
     "data": {
      "text/plain": [
       "0.3357142857142857"
      ]
     },
     "execution_count": 123,
     "metadata": {},
     "output_type": "execute_result"
    }
   ],
   "source": [
    "np.mean(y_pred_pipeline == y_test_own)"
   ]
  },
  {
   "cell_type": "code",
   "execution_count": 124,
   "metadata": {},
   "outputs": [
    {
     "name": "stdout",
     "output_type": "stream",
     "text": [
      "[[214   6  26 132]\n",
      " [ 49   1  14  44]\n",
      " [150   1  21  80]\n",
      " [203   6  33 140]]\n",
      "              precision    recall  f1-score   support\n",
      "\n",
      "           0       0.35      0.57      0.43       378\n",
      "           1       0.07      0.01      0.02       108\n",
      "           2       0.22      0.08      0.12       252\n",
      "           3       0.35      0.37      0.36       382\n",
      "\n",
      "    accuracy                           0.34      1120\n",
      "   macro avg       0.25      0.26      0.23      1120\n",
      "weighted avg       0.29      0.34      0.30      1120\n",
      "\n",
      "0.3357142857142857\n"
     ]
    }
   ],
   "source": [
    "print(confusion_matrix(y_test_own,y_pred_pipeline))\n",
    "print(classification_report(y_test_own,y_pred_pipeline))\n",
    "print(accuracy_score(y_test_own, y_pred_pipeline))"
   ]
  },
  {
   "cell_type": "code",
   "execution_count": 30,
   "metadata": {},
   "outputs": [],
   "source": [
    "##### GRIDSEARCH ######"
   ]
  },
  {
   "cell_type": "code",
   "execution_count": 58,
   "metadata": {},
   "outputs": [],
   "source": [
    "from sklearn.model_selection import GridSearchCV\n",
    "from sklearn.model_selection import RandomizedSearchCV\n",
    "\n",
    "parameters = {\n",
    "    'tfidf__use_idf': (True, False),\n",
    "    'tfidf__min_df': [3,4,5,10,15,20],\n",
    "    'tfidf__ngram_range': [(1, 2), (1, 3)],\n",
    "    'tfidf__max_features': [1000, 3000, 5000],\n",
    "    'tfidf__max_df': (0.1, 0.2, 0.3, 0.4, 0.5, 0.6, 0.7, 0.8, 0.9),\n",
    "    'tfidf__stop_words': [\"english\", None],\n",
    "    'tfidf__strip_accents': [None, 'ascii'],\n",
    "    'tfidf__analyzer': [\"word\", \"char\", \"char_wb\"],\n",
    "#     'clf__n_estimators': [100, 200, 300, 400, 500, 1000],\n",
    "#     'clf__min_samples_split': [2, 3, 4, 5],\n",
    "#     'clf__class_weight': [\"balanced\"],\n",
    "#     'clf__tol': [0.0001, 0.001, 0.01, 0.00001],\n",
    "#     'clf__C': [0.01, 0.1, 1, 2, 5],\n",
    "#     'clf__kernel': [\"poly\", \"rbf\", \"sigmoid\"],\n",
    "#     'clf__break_ties': [True]\n",
    "}"
   ]
  },
  {
   "cell_type": "code",
   "execution_count": 59,
   "metadata": {},
   "outputs": [],
   "source": [
    "# gs_clf = GridSearchCV(text_clf, parameters, cv=5, n_jobs=-1, verbose=1)\n",
    "rs_clf = RandomizedSearchCV(text_clf, parameters, n_iter=700, n_jobs=-1, verbose=1, cv=2)"
   ]
  },
  {
   "cell_type": "code",
   "execution_count": 60,
   "metadata": {},
   "outputs": [
    {
     "name": "stdout",
     "output_type": "stream",
     "text": [
      "Fitting 2 folds for each of 700 candidates, totalling 1400 fits\n"
     ]
    },
    {
     "name": "stderr",
     "output_type": "stream",
     "text": [
      "[Parallel(n_jobs=-1)]: Done  34 tasks      | elapsed:    2.6s\n",
      "[Parallel(n_jobs=-1)]: Done 184 tasks      | elapsed:   15.4s\n",
      "[Parallel(n_jobs=-1)]: Done 434 tasks      | elapsed:   35.7s\n",
      "[Parallel(n_jobs=-1)]: Done 784 tasks      | elapsed:  1.1min\n",
      "[Parallel(n_jobs=-1)]: Done 1234 tasks      | elapsed:  1.8min\n",
      "[Parallel(n_jobs=-1)]: Done 1400 out of 1400 | elapsed:  2.1min finished\n"
     ]
    },
    {
     "data": {
      "text/plain": [
       "RandomizedSearchCV(cv=2, error_score=nan,\n",
       "                   estimator=Pipeline(memory=None,\n",
       "                                      steps=[('tfidf',\n",
       "                                              TfidfVectorizer(analyzer='word',\n",
       "                                                              binary=False,\n",
       "                                                              decode_error='strict',\n",
       "                                                              dtype=<class 'numpy.float64'>,\n",
       "                                                              encoding='utf-8',\n",
       "                                                              input='content',\n",
       "                                                              lowercase=True,\n",
       "                                                              max_df=1.0,\n",
       "                                                              max_features=None,\n",
       "                                                              min_df=1,\n",
       "                                                              ngram_range=(1,\n",
       "                                                                           1),\n",
       "                                                              norm='l2',\n",
       "                                                              preprocessor=None,\n",
       "                                                              smooth_idf=True,\n",
       "                                                              stop_words=None,\n",
       "                                                              str...\n",
       "                                        'tfidf__max_df': (0.1, 0.2, 0.3, 0.4,\n",
       "                                                          0.5, 0.6, 0.7, 0.8,\n",
       "                                                          0.9),\n",
       "                                        'tfidf__max_features': [1000, 3000,\n",
       "                                                                5000],\n",
       "                                        'tfidf__min_df': [3, 4, 5, 10, 15, 20],\n",
       "                                        'tfidf__ngram_range': [(1, 2), (1, 3)],\n",
       "                                        'tfidf__stop_words': ['english', None],\n",
       "                                        'tfidf__strip_accents': [None, 'ascii'],\n",
       "                                        'tfidf__use_idf': (True, False)},\n",
       "                   pre_dispatch='2*n_jobs', random_state=None, refit=True,\n",
       "                   return_train_score=False, scoring=None, verbose=1)"
      ]
     },
     "execution_count": 60,
     "metadata": {},
     "output_type": "execute_result"
    }
   ],
   "source": [
    "# gs_clf.fit(X_train_own.lemmatized_text, y_train_own)\n",
    "rs_clf.fit(X_train_own.lemmatized_text, y_train_own)"
   ]
  },
  {
   "cell_type": "code",
   "execution_count": 61,
   "metadata": {},
   "outputs": [],
   "source": [
    "# random_results = []"
   ]
  },
  {
   "cell_type": "code",
   "execution_count": 62,
   "metadata": {},
   "outputs": [
    {
     "data": {
      "text/plain": [
       "{'tfidf__analyzer': 'word',\n",
       " 'tfidf__max_df': 0.2,\n",
       " 'tfidf__max_features': 3000,\n",
       " 'tfidf__min_df': 3,\n",
       " 'tfidf__ngram_range': (1, 2),\n",
       " 'tfidf__stop_words': None,\n",
       " 'tfidf__strip_accents': None,\n",
       " 'tfidf__use_idf': True}"
      ]
     },
     "execution_count": 62,
     "metadata": {},
     "output_type": "execute_result"
    }
   ],
   "source": [
    "# gs_clf.best_params_\n",
    "rs_clf.best_params_"
   ]
  },
  {
   "cell_type": "code",
   "execution_count": null,
   "metadata": {},
   "outputs": [],
   "source": []
  },
  {
   "cell_type": "code",
   "execution_count": 63,
   "metadata": {},
   "outputs": [],
   "source": [
    "random_results.append([rs_clf.best_params_, rs_clf.best_score_])"
   ]
  },
  {
   "cell_type": "code",
   "execution_count": 64,
   "metadata": {},
   "outputs": [
    {
     "data": {
      "text/plain": [
       "0.35022321428571423"
      ]
     },
     "execution_count": 64,
     "metadata": {},
     "output_type": "execute_result"
    }
   ],
   "source": [
    "rs_clf.best_score_"
   ]
  },
  {
   "cell_type": "code",
   "execution_count": 66,
   "metadata": {},
   "outputs": [],
   "source": [
    "y_pred_pipeline = rs_clf.predict(X_test_own.lemmatized_text)"
   ]
  },
  {
   "cell_type": "code",
   "execution_count": 67,
   "metadata": {},
   "outputs": [
    {
     "name": "stdout",
     "output_type": "stream",
     "text": [
      "[[243   5  16 114]\n",
      " [ 65   2  11  30]\n",
      " [161   6  15  70]\n",
      " [238   5  21 118]]\n",
      "              precision    recall  f1-score   support\n",
      "\n",
      "           0       0.34      0.64      0.45       378\n",
      "           1       0.11      0.02      0.03       108\n",
      "           2       0.24      0.06      0.10       252\n",
      "           3       0.36      0.31      0.33       382\n",
      "\n",
      "    accuracy                           0.34      1120\n",
      "   macro avg       0.26      0.26      0.23      1120\n",
      "weighted avg       0.30      0.34      0.29      1120\n",
      "\n",
      "0.3375\n"
     ]
    }
   ],
   "source": [
    "print(confusion_matrix(y_test_own,y_pred_pipeline))\n",
    "print(classification_report(y_test_own,y_pred_pipeline))\n",
    "print(accuracy_score(y_test_own, y_pred_pipeline))"
   ]
  },
  {
   "cell_type": "code",
   "execution_count": 90,
   "metadata": {},
   "outputs": [],
   "source": [
    "def plot_confusion_matrix(cm,\n",
    "                          target_names,\n",
    "                          title='Confusion matrix',\n",
    "                          cmap=None,\n",
    "                          normalize=True):\n",
    "    \"\"\"\n",
    "    given a sklearn confusion matrix (cm), make a nice plot\n",
    "\n",
    "    Arguments\n",
    "    ---------\n",
    "    cm:           confusion matrix from sklearn.metrics.confusion_matrix\n",
    "\n",
    "    target_names: given classification classes such as [0, 1, 2]\n",
    "                  the class names, for example: ['high', 'medium', 'low']\n",
    "\n",
    "    title:        the text to display at the top of the matrix\n",
    "\n",
    "    cmap:         the gradient of the values displayed from matplotlib.pyplot.cm\n",
    "                  see http://matplotlib.org/examples/color/colormaps_reference.html\n",
    "                  plt.get_cmap('jet') or plt.cm.Blues\n",
    "\n",
    "    normalize:    If False, plot the raw numbers\n",
    "                  If True, plot the proportions\n",
    "\n",
    "    Usage\n",
    "    -----\n",
    "    plot_confusion_matrix(cm           = cm,                  # confusion matrix created by\n",
    "                                                              # sklearn.metrics.confusion_matrix\n",
    "                          normalize    = True,                # show proportions\n",
    "                          target_names = y_labels_vals,       # list of names of the classes\n",
    "                          title        = best_estimator_name) # title of graph\n",
    "\n",
    "    Citiation\n",
    "    ---------\n",
    "    http://scikit-learn.org/stable/auto_examples/model_selection/plot_confusion_matrix.html\n",
    "\n",
    "    \"\"\"\n",
    "    import matplotlib.pyplot as plt\n",
    "    import numpy as np\n",
    "    import itertools\n",
    "\n",
    "    accuracy = np.trace(cm) / np.sum(cm).astype('float')\n",
    "    misclass = 1 - accuracy\n",
    "\n",
    "    if cmap is None:\n",
    "        cmap = plt.get_cmap('Blues')\n",
    "\n",
    "    plt.figure(figsize=(8, 6))\n",
    "    plt.imshow(cm, interpolation='nearest', cmap=cmap)\n",
    "    plt.title(title)\n",
    "    plt.colorbar()\n",
    "\n",
    "    if target_names is not None:\n",
    "        tick_marks = np.arange(len(target_names))\n",
    "        plt.xticks(tick_marks, target_names, rotation=45)\n",
    "        plt.yticks(tick_marks, target_names)\n",
    "\n",
    "    if normalize:\n",
    "        cm = cm.astype('float') / cm.sum(axis=1)[:, np.newaxis]\n",
    "\n",
    "\n",
    "    thresh = cm.max() / 1.5 if normalize else cm.max() / 2\n",
    "    for i, j in itertools.product(range(cm.shape[0]), range(cm.shape[1])):\n",
    "        if normalize:\n",
    "            plt.text(j, i, \"{:0.4f}\".format(cm[i, j]),\n",
    "                     horizontalalignment=\"center\",\n",
    "                     color=\"white\" if cm[i, j] > thresh else \"black\")\n",
    "        else:\n",
    "            plt.text(j, i, \"{:,}\".format(cm[i, j]),\n",
    "                     horizontalalignment=\"center\",\n",
    "                     color=\"white\" if cm[i, j] > thresh else \"black\")\n",
    "\n",
    "\n",
    "    plt.tight_layout()\n",
    "    plt.ylabel('True label')\n",
    "    plt.xlabel('Predicted label\\naccuracy={:0.4f}; misclass={:0.4f}'.format(accuracy, misclass))\n",
    "    plt.savefig(\"fig.svg\")\n",
    "    plt.show()\n",
    "    "
   ]
  },
  {
   "cell_type": "code",
   "execution_count": 91,
   "metadata": {},
   "outputs": [
    {
     "data": {
      "image/png": "[encoded data removed]",
      "text/plain": [
       "<Figure size 576x432 with 2 Axes>"
      ]
     },
     "metadata": {},
     "output_type": "display_data"
    }
   ],
   "source": [
    "cm = plot_confusion_matrix(confusion_matrix(y_test_own,y_pred_pipeline), [\"funny\", \"hilarious\", \"not_funny\", \"very_funny\"])"
   ]
  },
  {
   "cell_type": "markdown",
   "metadata": {},
   "source": [
    "## Predicting on real test set"
   ]
  },
  {
   "cell_type": "code",
   "execution_count": 42,
   "metadata": {},
   "outputs": [],
   "source": [
    "def load_real_test_set(lemmatize=True):\n",
    "    test_data = pd.read_csv(\"test_data.csv\")\n",
    "    test_data.fillna(\"No text\", inplace=True)\n",
    "    test_texts_lowercase = [t.lower() for t in test_data.Corrected_text]\n",
    "    test_data[\"lowercased_text\"] = test_texts_lowercase\n",
    "    test_data[\"cleaned_text\"] = test_data.lowercased_text.apply(lambda x: clean_text(x))\n",
    "    if lemmatize:\n",
    "        test_data[\"lemmatized_text\"] = test_data.cleaned_text.apply(lambda x: lemmatize_text(x))\n",
    "    else:\n",
    "        pass\n",
    "    return test_data\n",
    "    "
   ]
  },
  {
   "cell_type": "code",
   "execution_count": 43,
   "metadata": {},
   "outputs": [],
   "source": [
    "def get_test_set_features(tfidf_instance, test_set, text_column=\"lemmatized_text\"):\n",
    "    return tfidf_instance.transform(test_set[text_column])"
   ]
  },
  {
   "cell_type": "code",
   "execution_count": 44,
   "metadata": {},
   "outputs": [],
   "source": [
    "real_test_set = load_real_test_set()"
   ]
  },
  {
   "cell_type": "code",
   "execution_count": 376,
   "metadata": {},
   "outputs": [],
   "source": [
    "real_test_set_features = get_test_set_features(tfidf, real_test_set)"
   ]
  },
  {
   "cell_type": "code",
   "execution_count": 96,
   "metadata": {},
   "outputs": [],
   "source": [
    "test_pred = rs_clf.predict(real_test_set.lemmatized_text)"
   ]
  },
  {
   "cell_type": "code",
   "execution_count": 97,
   "metadata": {},
   "outputs": [],
   "source": [
    "real_test_set[\"category\"] = test_pred"
   ]
  },
  {
   "cell_type": "code",
   "execution_count": 98,
   "metadata": {},
   "outputs": [],
   "source": [
    "real_test_set = add_string_labels(real_test_set)"
   ]
  },
  {
   "cell_type": "code",
   "execution_count": 99,
   "metadata": {},
   "outputs": [
    {
     "data": {
      "text/html": [
       "<div>\n",
       "<style scoped>\n",
       "    .dataframe tbody tr th:only-of-type {\n",
       "        vertical-align: middle;\n",
       "    }\n",
       "\n",
       "    .dataframe tbody tr th {\n",
       "        vertical-align: top;\n",
       "    }\n",
       "\n",
       "    .dataframe thead th {\n",
       "        text-align: right;\n",
       "    }\n",
       "</style>\n",
       "<table border=\"1\" class=\"dataframe\">\n",
       "  <thead>\n",
       "    <tr style=\"text-align: right;\">\n",
       "      <th></th>\n",
       "      <th>id</th>\n",
       "      <th>Corrected_text</th>\n",
       "      <th>lowercased_text</th>\n",
       "      <th>cleaned_text</th>\n",
       "      <th>lemmatized_text</th>\n",
       "      <th>category</th>\n",
       "      <th>Humour</th>\n",
       "    </tr>\n",
       "  </thead>\n",
       "  <tbody>\n",
       "    <tr>\n",
       "      <td>0</td>\n",
       "      <td>test_1.jpg</td>\n",
       "      <td>OK LAST PODCASTERS THE GAME IS...POST YOUR FAV...</td>\n",
       "      <td>ok last podcasters the game is...post your fav...</td>\n",
       "      <td>ok last podcasters the game ispost your favori...</td>\n",
       "      <td>ok last podcaster the game ispost your favorit...</td>\n",
       "      <td>0</td>\n",
       "      <td>funny</td>\n",
       "    </tr>\n",
       "    <tr>\n",
       "      <td>1</td>\n",
       "      <td>test_2.jpg</td>\n",
       "      <td>THERE ARE LIMITS self hating Joke here</td>\n",
       "      <td>there are limits self hating joke here</td>\n",
       "      <td>there are limits self hating joke here</td>\n",
       "      <td>there be limit self hat joke here</td>\n",
       "      <td>0</td>\n",
       "      <td>funny</td>\n",
       "    </tr>\n",
       "    <tr>\n",
       "      <td>2</td>\n",
       "      <td>test_3.jpg</td>\n",
       "      <td>AFRICAN LION LYIN' AFRICAN It's not racist  it...</td>\n",
       "      <td>african lion lyin' african it's not racist  it...</td>\n",
       "      <td>african lion lyin african its not racist its t...</td>\n",
       "      <td>african lion lyin african its not racist its t...</td>\n",
       "      <td>0</td>\n",
       "      <td>funny</td>\n",
       "    </tr>\n",
       "    <tr>\n",
       "      <td>3</td>\n",
       "      <td>test_4.jpg</td>\n",
       "      <td>WHAAAAAAAAT IWASNT LISTENING</td>\n",
       "      <td>whaaaaaaaat iwasnt listening</td>\n",
       "      <td>whaaaaaaaat iwasnt listening</td>\n",
       "      <td>whaaaaaaaat iwasnt listening</td>\n",
       "      <td>3</td>\n",
       "      <td>very_funny</td>\n",
       "    </tr>\n",
       "    <tr>\n",
       "      <td>4</td>\n",
       "      <td>test_5.jpg</td>\n",
       "      <td>HOW DO WE DESTROY THE PATRIARCHY? IT'S SIMPLE....</td>\n",
       "      <td>how do we destroy the patriarchy? it's simple....</td>\n",
       "      <td>how do we destroy the patriarchy its simple we...</td>\n",
       "      <td>how do we destroy the patriarchy its simple we...</td>\n",
       "      <td>0</td>\n",
       "      <td>funny</td>\n",
       "    </tr>\n",
       "  </tbody>\n",
       "</table>\n",
       "</div>"
      ],
      "text/plain": [
       "           id                                     Corrected_text  \\\n",
       "0  test_1.jpg  OK LAST PODCASTERS THE GAME IS...POST YOUR FAV...   \n",
       "1  test_2.jpg            THERE ARE LIMITS self hating Joke here    \n",
       "2  test_3.jpg  AFRICAN LION LYIN' AFRICAN It's not racist  it...   \n",
       "3  test_4.jpg                      WHAAAAAAAAT IWASNT LISTENING    \n",
       "4  test_5.jpg  HOW DO WE DESTROY THE PATRIARCHY? IT'S SIMPLE....   \n",
       "\n",
       "                                     lowercased_text  \\\n",
       "0  ok last podcasters the game is...post your fav...   \n",
       "1            there are limits self hating joke here    \n",
       "2  african lion lyin' african it's not racist  it...   \n",
       "3                      whaaaaaaaat iwasnt listening    \n",
       "4  how do we destroy the patriarchy? it's simple....   \n",
       "\n",
       "                                        cleaned_text  \\\n",
       "0  ok last podcasters the game ispost your favori...   \n",
       "1            there are limits self hating joke here    \n",
       "2  african lion lyin african its not racist its t...   \n",
       "3                      whaaaaaaaat iwasnt listening    \n",
       "4  how do we destroy the patriarchy its simple we...   \n",
       "\n",
       "                                     lemmatized_text  category      Humour  \n",
       "0  ok last podcaster the game ispost your favorit...         0       funny  \n",
       "1                  there be limit self hat joke here         0       funny  \n",
       "2  african lion lyin african its not racist its t...         0       funny  \n",
       "3                       whaaaaaaaat iwasnt listening         3  very_funny  \n",
       "4  how do we destroy the patriarchy its simple we...         0       funny  "
      ]
     },
     "execution_count": 99,
     "metadata": {},
     "output_type": "execute_result"
    }
   ],
   "source": [
    "real_test_set.head()"
   ]
  },
  {
   "cell_type": "code",
   "execution_count": 100,
   "metadata": {},
   "outputs": [],
   "source": [
    "def make_predictions_df(test_data_with_pred):\n",
    "    df = test_data_with_pred[[\"id\", \"Humour\"]]\n",
    "    return df"
   ]
  },
  {
   "cell_type": "code",
   "execution_count": 101,
   "metadata": {},
   "outputs": [],
   "source": [
    "submission_df = make_predictions_df(real_test_set)"
   ]
  },
  {
   "cell_type": "code",
   "execution_count": 102,
   "metadata": {},
   "outputs": [
    {
     "data": {
      "text/html": [
       "<div>\n",
       "<style scoped>\n",
       "    .dataframe tbody tr th:only-of-type {\n",
       "        vertical-align: middle;\n",
       "    }\n",
       "\n",
       "    .dataframe tbody tr th {\n",
       "        vertical-align: top;\n",
       "    }\n",
       "\n",
       "    .dataframe thead th {\n",
       "        text-align: right;\n",
       "    }\n",
       "</style>\n",
       "<table border=\"1\" class=\"dataframe\">\n",
       "  <thead>\n",
       "    <tr style=\"text-align: right;\">\n",
       "      <th></th>\n",
       "      <th>id</th>\n",
       "      <th>Humour</th>\n",
       "    </tr>\n",
       "  </thead>\n",
       "  <tbody>\n",
       "    <tr>\n",
       "      <td>0</td>\n",
       "      <td>test_1.jpg</td>\n",
       "      <td>funny</td>\n",
       "    </tr>\n",
       "    <tr>\n",
       "      <td>1</td>\n",
       "      <td>test_2.jpg</td>\n",
       "      <td>funny</td>\n",
       "    </tr>\n",
       "    <tr>\n",
       "      <td>2</td>\n",
       "      <td>test_3.jpg</td>\n",
       "      <td>funny</td>\n",
       "    </tr>\n",
       "    <tr>\n",
       "      <td>3</td>\n",
       "      <td>test_4.jpg</td>\n",
       "      <td>very_funny</td>\n",
       "    </tr>\n",
       "    <tr>\n",
       "      <td>4</td>\n",
       "      <td>test_5.jpg</td>\n",
       "      <td>funny</td>\n",
       "    </tr>\n",
       "  </tbody>\n",
       "</table>\n",
       "</div>"
      ],
      "text/plain": [
       "           id      Humour\n",
       "0  test_1.jpg       funny\n",
       "1  test_2.jpg       funny\n",
       "2  test_3.jpg       funny\n",
       "3  test_4.jpg  very_funny\n",
       "4  test_5.jpg       funny"
      ]
     },
     "execution_count": 102,
     "metadata": {},
     "output_type": "execute_result"
    }
   ],
   "source": [
    "submission_df.head()"
   ]
  },
  {
   "cell_type": "code",
   "execution_count": 531,
   "metadata": {},
   "outputs": [],
   "source": [
    "make_submission_file(make_predictions_df(dd))"
   ]
  },
  {
   "cell_type": "code",
   "execution_count": null,
   "metadata": {},
   "outputs": [],
   "source": []
  }
 ],
 "metadata": {
  "kernelspec": {
   "display_name": "Python 3",
   "language": "python",
   "name": "python3"
  },
  "language_info": {
   "codemirror_mode": {
    "name": "ipython",
    "version": 3
   },
   "file_extension": ".py",
   "mimetype": "text/x-python",
   "name": "python",
   "nbconvert_exporter": "python",
   "pygments_lexer": "ipython3",
   "version": "3.6.1"
  }
 },
 "nbformat": 4,
 "nbformat_minor": 2
}
