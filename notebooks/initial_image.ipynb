{
  "nbformat": 4,
  "nbformat_minor": 0,
  "metadata": {
    "colab": {
      "name": "MemeAnalysisChallenge.ipynb",
      "provenance": [],
      "collapsed_sections": []
    },
    "kernelspec": {
      "display_name": "Python 3",
      "language": "python",
      "name": "python3"
    },
    "language_info": {
      "codemirror_mode": {
        "name": "ipython",
        "version": 3
      },
      "file_extension": ".py",
      "mimetype": "text/x-python",
      "name": "python",
      "nbconvert_exporter": "python",
      "pygments_lexer": "ipython3",
      "version": "3.7.3"
    }
  },
  "cells": [
    {
      "cell_type": "code",
      "metadata": {
        "colab_type": "code",
        "id": "g0ealpMsFpr4",
        "colab": {}
      },
      "source": [
        "import pandas as pd\n",
        "import numpy as np\n",
        "import os\n",
        "\n",
        "\n",
        "train_labels = pd.read_csv('train_label.csv')\n",
        "train_data = pd.read_csv('train_data.csv')"
      ],
      "execution_count": 0,
      "outputs": []
    },
    {
      "cell_type": "code",
      "metadata": {
        "colab_type": "code",
        "id": "JfODkBN5TKho",
        "colab": {}
      },
      "source": [
        "train_labels.head()"
      ],
      "execution_count": 0,
      "outputs": []
    },
    {
      "cell_type": "code",
      "metadata": {
        "colab_type": "code",
        "id": "eLGBVEHFWwDY",
        "colab": {}
      },
      "source": [
        "train_df = pd.merge(train_data, train_labels, on=\"id\")"
      ],
      "execution_count": 0,
      "outputs": []
    },
    {
      "cell_type": "code",
      "metadata": {
        "id": "tRj9rsK2FiP2",
        "colab_type": "code",
        "colab": {}
      },
      "source": [
        "train_df.head()"
      ],
      "execution_count": 0,
      "outputs": []
    },
    {
      "cell_type": "code",
      "metadata": {
        "id": "SoJQIBlcFiQG",
        "colab_type": "code",
        "colab": {}
      },
      "source": [
        "# for i in train_labels.Humour.unique():\n",
        "#    os.mkdir(\"train_set/train_set/\" + i)"
      ],
      "execution_count": 0,
      "outputs": []
    },
    {
      "cell_type": "code",
      "metadata": {
        "id": "cK1q85AVFiQS",
        "colab_type": "code",
        "colab": {}
      },
      "source": [
        "# import shutil\n",
        "# for i in train_labels.Humour.unique():\n",
        "#    temp_df = list(train_labels.id[train_labels.Humour==i])\n",
        "#    for y in temp_df:\n",
        "#        shutil.move(\"train_set/train_set/\" + y, \"train_set/train_set/\" + i + \"/\" + y)"
      ],
      "execution_count": 0,
      "outputs": []
    },
    {
      "cell_type": "code",
      "metadata": {
        "colab_type": "code",
        "id": "Q90OGtb5XjNU",
        "colab": {}
      },
      "source": [
        "from keras.preprocessing.image import ImageDataGenerator, array_to_img, img_to_array, load_img\n",
        "from PIL import ImageFile\n",
        "ImageFile.LOAD_TRUNCATED_IMAGES = True\n",
        "\n",
        "datagen = ImageDataGenerator(\n",
        "        rotation_range=5,\n",
        "        width_shift_range=0.05,\n",
        "        height_shift_range=0.05,\n",
        "        rescale=1./255,\n",
        "        shear_range=0.05,\n",
        "        zoom_range=0.05,\n",
        "        fill_mode='nearest')\n",
        "\n",
        "def aug_images(origin, destination, amount):\n",
        "    # the names of the images\n",
        "    img_strings = os.listdir('train_set/train_set/' + origin)\n",
        "    # loop through the images\n",
        "    for img_str in img_strings:\n",
        "        # load PIL image\n",
        "        img = load_img('train_set/train_set/' + origin + '/' + img_str)\n",
        "        # check if it is PNG and convert to JPG\n",
        "        if img.format == 'PNG':\n",
        "            temp_img = img.convert('RGB')\n",
        "            img = temp_img\n",
        "        # this is a Numpy array with shape (3, 150, 150)\n",
        "        x = img_to_array(img)  \n",
        "        # this is a Numpy array with shape (1, 3, 150, 150)\n",
        "        x = x.reshape((1,) + x.shape)  \n",
        "\n",
        "        # the .flow() command below generates batches of randomly transformed images\n",
        "        # and saves the results in the destination folder\n",
        "        i = 0\n",
        "        for batch in datagen.flow(x, batch_size=1,\n",
        "                                  save_to_dir='train_set/train_set/' + destination, save_prefix=img_str, save_format='jpeg'):\n",
        "            i += 1\n",
        "            if i >= amount:\n",
        "                break\n",
        "                \n"
      ],
      "execution_count": 0,
      "outputs": []
    },
    {
      "cell_type": "code",
      "metadata": {
        "id": "kiN5WegKFiQr",
        "colab_type": "code",
        "colab": {}
      },
      "source": [
        "# what is the size of the image\n",
        "import pandas as pd\n",
        "img_strings = os.listdir('train_set/train_set/funny/')\n",
        "img_dim = []\n",
        "for img_str in img_strings:\n",
        "    # load PIL image\n",
        "    img = load_img('train_set/train_set/funny/' + img_str)\n",
        "    img_dim.append([img.width, img.height])\n",
        "    \n",
        "df = pd.DataFrame(img_dim, columns={'width', 'height'})\n",
        "\n",
        "export_csv = df.to_csv (r'C:\\Users\\Fabian\\Documents\\Studie\\Master\\Applied Machine Learning\\Poster\\export_dataframe.csv', index = None, header=True) #Don't forget to add '.csv' at the end of the path\n",
        "\n",
        "print(df)"
      ],
      "execution_count": 0,
      "outputs": []
    },
    {
      "cell_type": "code",
      "metadata": {
        "id": "kuDgBKdVFiQ0",
        "colab_type": "code",
        "colab": {}
      },
      "source": [
        "df.std() + df.mean()"
      ],
      "execution_count": 0,
      "outputs": []
    },
    {
      "cell_type": "code",
      "metadata": {
        "id": "HFAR6nnpFiRA",
        "colab_type": "code",
        "colab": {}
      },
      "source": [
        "df.width.plot.hist()"
      ],
      "execution_count": 0,
      "outputs": []
    },
    {
      "cell_type": "code",
      "metadata": {
        "id": "GWvbxEtwFiRN",
        "colab_type": "code",
        "colab": {}
      },
      "source": [
        "df.mode()"
      ],
      "execution_count": 0,
      "outputs": []
    },
    {
      "cell_type": "code",
      "metadata": {
        "id": "v35VHe9pFiRX",
        "colab_type": "code",
        "colab": {}
      },
      "source": [
        "# example of progressively loading images from file\n",
        "from keras.preprocessing.image import ImageDataGenerator\n",
        "\n",
        "dir_path = 'train_set/train_set/'\n",
        "# numbers are based on mode, varified with histogram\n",
        "img_width, img_height = 500, 400\n",
        "\n",
        "# create generator\n",
        "datagen = ImageDataGenerator(validation_split=0.2)\n",
        "# prepare an iterators for each dataset\n",
        "train_it = datagen.flow_from_directory(dir_path, \n",
        "                                       target_size=(img_width, img_height),\n",
        "                                       subset='training')\n",
        "val_it = datagen.flow_from_directory(dir_path,\n",
        "                                     target_size=(img_width, img_height),\n",
        "                                     subset='validation')\n",
        "# confirm the iterator works\n",
        "batchX, batchy = train_it.next()\n",
        "val_batchX, val_batchy  = val_it.next()\n",
        "print('Batch shape=%s, min=%.3f, max=%.3f' % (batchX.shape, batchX.min(), batchX.max()))"
      ],
      "execution_count": 0,
      "outputs": []
    },
    {
      "cell_type": "code",
      "metadata": {
        "id": "L0MARuQ-FiRf",
        "colab_type": "code",
        "colab": {}
      },
      "source": [
        "val_batchy"
      ],
      "execution_count": 0,
      "outputs": []
    },
    {
      "cell_type": "code",
      "metadata": {
        "id": "sRyEqbFtFiRn",
        "colab_type": "code",
        "colab": {}
      },
      "source": [
        "from keras.models import Sequential\n",
        "from keras.layers import Conv2D, MaxPooling2D\n",
        "from keras.layers import Activation, Dropout, Flatten, Dense\n",
        "\n",
        "\n",
        "# First iteration of the image model --> simple CNN.\n",
        "model = Sequential()\n",
        "model.add(Conv2D(32, (3, 3), input_shape=(3, img_width, img_height)))\n",
        "model.add(Activation('relu'))\n",
        "model.add(MaxPooling2D(pool_size=(2, 2)))\n",
        "\n",
        "model.add(Conv2D(32, (3, 3)))\n",
        "model.add(Activation('relu'))\n",
        "model.add(MaxPooling2D(pool_size=(2, 2)))\n",
        "\n",
        "model.add(Conv2D(64, (3, 3)))\n",
        "model.add(Activation('relu'))\n",
        "model.add(MaxPooling2D(pool_size=(2, 2)))\n",
        "\n",
        "# Now we flatten our input to 1 dimension for the fulle connected layers.\n",
        "model.add(Flatten(input_shape=(img_width, img_height, 3)))  \n",
        "model.add(Dense(128))\n",
        "model.add(Activation('relu'))\n",
        "model.add(Dropout(0.5))\n",
        "model.add(Dense(4))\n",
        "model.add(Activation('softmax'))\n",
        "\n",
        "model.compile(loss='categorical_crossentropy',\n",
        "              optimizer='Adam',\n",
        "              metrics=['accuracy'])\n",
        "\n",
        "model.summary()"
      ],
      "execution_count": 0,
      "outputs": []
    },
    {
      "cell_type": "code",
      "metadata": {
        "id": "L_btS9F8FiRp",
        "colab_type": "code",
        "colab": {}
      },
      "source": [
        "model.fit_generator(\n",
        "    train_it,\n",
        "    epochs=50,\n",
        "    validation_data=val_it\n",
        ")"
      ],
      "execution_count": 0,
      "outputs": []
    }
  ]
}